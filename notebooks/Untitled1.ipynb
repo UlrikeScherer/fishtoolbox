{
 "cells": [
  {
   "cell_type": "code",
   "execution_count": 1,
   "id": "56f63e63-733b-4669-8afc-39cacc518663",
   "metadata": {},
   "outputs": [],
   "source": [
    "import fishproviz\n",
    "\n",
    "%load_ext autoreload\n",
    "%autoreload 2\n",
    "%load_ext line_profiler  "
   ]
  },
  {
   "cell_type": "code",
   "execution_count": null,
   "id": "5f0446fe-5236-4129-9a5d-134d075a1904",
   "metadata": {},
   "outputs": [],
   "source": []
  }
 ],
 "metadata": {
  "kernelspec": {
   "display_name": "Python 3 (ipykernel)",
   "language": "python",
   "name": "python3"
  },
  "language_info": {
   "codemirror_mode": {
    "name": "ipython",
    "version": 3
   },
   "file_extension": ".py",
   "mimetype": "text/x-python",
   "name": "python",
   "nbconvert_exporter": "python",
   "pygments_lexer": "ipython3",
   "version": "3.10.9"
  }
 },
 "nbformat": 4,
 "nbformat_minor": 5
}
